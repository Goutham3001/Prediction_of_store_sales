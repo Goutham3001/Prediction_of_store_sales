{
 "cells": [
  {
   "cell_type": "markdown",
   "id": "ff1d2a8f",
   "metadata": {},
   "source": [
    "# Regression - Prediction of Store Sales"
   ]
  },
  {
   "cell_type": "markdown",
   "id": "e842cbd4",
   "metadata": {},
   "source": [
    "### Technical goals of this project\n",
    "1 . Understand the data\n",
    "\n",
    "2 . Perform Exploratory Data Analysis\n",
    "\n",
    "3 . Carry out all Data Mining tasks\n",
    "\n",
    "4 . Identify the salient features that will determine the best results\n",
    "\n",
    "5 . Perform model evaluation to select th best algorithms "
   ]
  },
  {
   "cell_type": "markdown",
   "id": "cff8bf09",
   "metadata": {},
   "source": [
    "## Import Libraries"
   ]
  },
  {
   "cell_type": "code",
   "execution_count": 1,
   "id": "0262ebfa",
   "metadata": {},
   "outputs": [],
   "source": [
    "import pandas as pd\n",
    "import numpy as np\n",
    "from matplotlib import pyplot\n",
    "from numpy import mean\n",
    "from numpy import std\n",
    "import warnings\n",
    "warnings.filterwarnings(\"ignore\")\n",
    "from sklearn.model_selection import cross_val_score\n",
    "from sklearn.model_selection import RepeatedKFold\n",
    "from sklearn.preprocessing import MinMaxScaler, StandardScaler\n",
    "import seaborn as sns\n",
    "from sklearn.linear_model import LinearRegression\n",
    "from sklearn.model_selection import train_test_split\n",
    "import matplotlib.pyplot as plt\n",
    "from sklearn.metrics import mean_squared_error\n",
    "from sklearn.metrics import mean_absolute_error"
   ]
  },
  {
   "cell_type": "code",
   "execution_count": 2,
   "id": "5f376014",
   "metadata": {},
   "outputs": [
    {
     "name": "stderr",
     "output_type": "stream",
     "text": [
      "Intel(R) Extension for Scikit-learn* enabled (https://github.com/intel/scikit-learn-intelex)\n"
     ]
    }
   ],
   "source": [
    "from sklearnex import patch_sklearn\n",
    "patch_sklearn()"
   ]
  },
  {
   "cell_type": "markdown",
   "id": "e66e7dc1",
   "metadata": {},
   "source": [
    "## Data Preparation and Preprocessing"
   ]
  },
  {
   "cell_type": "code",
   "execution_count": 3,
   "id": "cf80e020",
   "metadata": {},
   "outputs": [
    {
     "data": {
      "text/html": [
       "<div>\n",
       "<style scoped>\n",
       "    .dataframe tbody tr th:only-of-type {\n",
       "        vertical-align: middle;\n",
       "    }\n",
       "\n",
       "    .dataframe tbody tr th {\n",
       "        vertical-align: top;\n",
       "    }\n",
       "\n",
       "    .dataframe thead th {\n",
       "        text-align: right;\n",
       "    }\n",
       "</style>\n",
       "<table border=\"1\" class=\"dataframe\">\n",
       "  <thead>\n",
       "    <tr style=\"text-align: right;\">\n",
       "      <th></th>\n",
       "      <th>Item_Identifier</th>\n",
       "      <th>Item_Weight</th>\n",
       "      <th>Item_Fat_Content</th>\n",
       "      <th>Item_Visibility</th>\n",
       "      <th>Item_Type</th>\n",
       "      <th>Item_MRP</th>\n",
       "      <th>Outlet_Identifier</th>\n",
       "      <th>Outlet_Establishment_Year</th>\n",
       "      <th>Outlet_Size</th>\n",
       "      <th>Outlet_Location_Type</th>\n",
       "      <th>Outlet_Type</th>\n",
       "      <th>Item_Outlet_Sales</th>\n",
       "    </tr>\n",
       "  </thead>\n",
       "  <tbody>\n",
       "    <tr>\n",
       "      <th>0</th>\n",
       "      <td>FDA15</td>\n",
       "      <td>9.30</td>\n",
       "      <td>Low Fat</td>\n",
       "      <td>0.016047</td>\n",
       "      <td>Dairy</td>\n",
       "      <td>249.8092</td>\n",
       "      <td>OUT049</td>\n",
       "      <td>1999</td>\n",
       "      <td>Medium</td>\n",
       "      <td>Tier 1</td>\n",
       "      <td>Supermarket Type1</td>\n",
       "      <td>3735.1380</td>\n",
       "    </tr>\n",
       "    <tr>\n",
       "      <th>1</th>\n",
       "      <td>DRC01</td>\n",
       "      <td>5.92</td>\n",
       "      <td>Regular</td>\n",
       "      <td>0.019278</td>\n",
       "      <td>Soft Drinks</td>\n",
       "      <td>48.2692</td>\n",
       "      <td>OUT018</td>\n",
       "      <td>2009</td>\n",
       "      <td>Medium</td>\n",
       "      <td>Tier 3</td>\n",
       "      <td>Supermarket Type2</td>\n",
       "      <td>443.4228</td>\n",
       "    </tr>\n",
       "    <tr>\n",
       "      <th>2</th>\n",
       "      <td>FDN15</td>\n",
       "      <td>17.50</td>\n",
       "      <td>Low Fat</td>\n",
       "      <td>0.016760</td>\n",
       "      <td>Meat</td>\n",
       "      <td>141.6180</td>\n",
       "      <td>OUT049</td>\n",
       "      <td>1999</td>\n",
       "      <td>Medium</td>\n",
       "      <td>Tier 1</td>\n",
       "      <td>Supermarket Type1</td>\n",
       "      <td>2097.2700</td>\n",
       "    </tr>\n",
       "    <tr>\n",
       "      <th>3</th>\n",
       "      <td>FDX07</td>\n",
       "      <td>19.20</td>\n",
       "      <td>Regular</td>\n",
       "      <td>0.074402</td>\n",
       "      <td>Fruits and Vegetables</td>\n",
       "      <td>182.0950</td>\n",
       "      <td>OUT010</td>\n",
       "      <td>1998</td>\n",
       "      <td>Medium</td>\n",
       "      <td>Tier 3</td>\n",
       "      <td>Grocery Store</td>\n",
       "      <td>732.3800</td>\n",
       "    </tr>\n",
       "    <tr>\n",
       "      <th>4</th>\n",
       "      <td>NCD19</td>\n",
       "      <td>8.93</td>\n",
       "      <td>Low Fat</td>\n",
       "      <td>0.064299</td>\n",
       "      <td>Household</td>\n",
       "      <td>53.8614</td>\n",
       "      <td>OUT013</td>\n",
       "      <td>1987</td>\n",
       "      <td>High</td>\n",
       "      <td>Tier 3</td>\n",
       "      <td>Supermarket Type1</td>\n",
       "      <td>994.7052</td>\n",
       "    </tr>\n",
       "    <tr>\n",
       "      <th>...</th>\n",
       "      <td>...</td>\n",
       "      <td>...</td>\n",
       "      <td>...</td>\n",
       "      <td>...</td>\n",
       "      <td>...</td>\n",
       "      <td>...</td>\n",
       "      <td>...</td>\n",
       "      <td>...</td>\n",
       "      <td>...</td>\n",
       "      <td>...</td>\n",
       "      <td>...</td>\n",
       "      <td>...</td>\n",
       "    </tr>\n",
       "    <tr>\n",
       "      <th>14199</th>\n",
       "      <td>FDB58</td>\n",
       "      <td>10.50</td>\n",
       "      <td>Regular</td>\n",
       "      <td>0.013496</td>\n",
       "      <td>Snack Foods</td>\n",
       "      <td>141.3154</td>\n",
       "      <td>OUT046</td>\n",
       "      <td>1997</td>\n",
       "      <td>Small</td>\n",
       "      <td>Tier 1</td>\n",
       "      <td>Supermarket Type1</td>\n",
       "      <td>NaN</td>\n",
       "    </tr>\n",
       "    <tr>\n",
       "      <th>14200</th>\n",
       "      <td>FDD47</td>\n",
       "      <td>7.60</td>\n",
       "      <td>Regular</td>\n",
       "      <td>0.142991</td>\n",
       "      <td>Starchy Foods</td>\n",
       "      <td>169.1448</td>\n",
       "      <td>OUT018</td>\n",
       "      <td>2009</td>\n",
       "      <td>Medium</td>\n",
       "      <td>Tier 3</td>\n",
       "      <td>Supermarket Type2</td>\n",
       "      <td>NaN</td>\n",
       "    </tr>\n",
       "    <tr>\n",
       "      <th>14201</th>\n",
       "      <td>NCO17</td>\n",
       "      <td>10.00</td>\n",
       "      <td>Low Fat</td>\n",
       "      <td>0.073529</td>\n",
       "      <td>Health and Hygiene</td>\n",
       "      <td>118.7440</td>\n",
       "      <td>OUT045</td>\n",
       "      <td>2002</td>\n",
       "      <td>Small</td>\n",
       "      <td>Tier 2</td>\n",
       "      <td>Supermarket Type1</td>\n",
       "      <td>NaN</td>\n",
       "    </tr>\n",
       "    <tr>\n",
       "      <th>14202</th>\n",
       "      <td>FDJ26</td>\n",
       "      <td>15.30</td>\n",
       "      <td>Regular</td>\n",
       "      <td>0.064709</td>\n",
       "      <td>Canned</td>\n",
       "      <td>214.6218</td>\n",
       "      <td>OUT017</td>\n",
       "      <td>2007</td>\n",
       "      <td>Small</td>\n",
       "      <td>Tier 2</td>\n",
       "      <td>Supermarket Type1</td>\n",
       "      <td>NaN</td>\n",
       "    </tr>\n",
       "    <tr>\n",
       "      <th>14203</th>\n",
       "      <td>FDU37</td>\n",
       "      <td>9.50</td>\n",
       "      <td>Regular</td>\n",
       "      <td>0.104720</td>\n",
       "      <td>Canned</td>\n",
       "      <td>79.7960</td>\n",
       "      <td>OUT045</td>\n",
       "      <td>2002</td>\n",
       "      <td>Small</td>\n",
       "      <td>Tier 2</td>\n",
       "      <td>Supermarket Type1</td>\n",
       "      <td>NaN</td>\n",
       "    </tr>\n",
       "  </tbody>\n",
       "</table>\n",
       "<p>14204 rows × 12 columns</p>\n",
       "</div>"
      ],
      "text/plain": [
       "      Item_Identifier  Item_Weight Item_Fat_Content  Item_Visibility  \\\n",
       "0               FDA15         9.30          Low Fat         0.016047   \n",
       "1               DRC01         5.92          Regular         0.019278   \n",
       "2               FDN15        17.50          Low Fat         0.016760   \n",
       "3               FDX07        19.20          Regular         0.074402   \n",
       "4               NCD19         8.93          Low Fat         0.064299   \n",
       "...               ...          ...              ...              ...   \n",
       "14199           FDB58        10.50          Regular         0.013496   \n",
       "14200           FDD47         7.60          Regular         0.142991   \n",
       "14201           NCO17        10.00          Low Fat         0.073529   \n",
       "14202           FDJ26        15.30          Regular         0.064709   \n",
       "14203           FDU37         9.50          Regular         0.104720   \n",
       "\n",
       "                   Item_Type  Item_MRP Outlet_Identifier  \\\n",
       "0                      Dairy  249.8092            OUT049   \n",
       "1                Soft Drinks   48.2692            OUT018   \n",
       "2                       Meat  141.6180            OUT049   \n",
       "3      Fruits and Vegetables  182.0950            OUT010   \n",
       "4                  Household   53.8614            OUT013   \n",
       "...                      ...       ...               ...   \n",
       "14199            Snack Foods  141.3154            OUT046   \n",
       "14200          Starchy Foods  169.1448            OUT018   \n",
       "14201     Health and Hygiene  118.7440            OUT045   \n",
       "14202                 Canned  214.6218            OUT017   \n",
       "14203                 Canned   79.7960            OUT045   \n",
       "\n",
       "       Outlet_Establishment_Year Outlet_Size Outlet_Location_Type  \\\n",
       "0                           1999      Medium               Tier 1   \n",
       "1                           2009      Medium               Tier 3   \n",
       "2                           1999      Medium               Tier 1   \n",
       "3                           1998      Medium               Tier 3   \n",
       "4                           1987        High               Tier 3   \n",
       "...                          ...         ...                  ...   \n",
       "14199                       1997       Small               Tier 1   \n",
       "14200                       2009      Medium               Tier 3   \n",
       "14201                       2002       Small               Tier 2   \n",
       "14202                       2007       Small               Tier 2   \n",
       "14203                       2002       Small               Tier 2   \n",
       "\n",
       "             Outlet_Type  Item_Outlet_Sales  \n",
       "0      Supermarket Type1          3735.1380  \n",
       "1      Supermarket Type2           443.4228  \n",
       "2      Supermarket Type1          2097.2700  \n",
       "3          Grocery Store           732.3800  \n",
       "4      Supermarket Type1           994.7052  \n",
       "...                  ...                ...  \n",
       "14199  Supermarket Type1                NaN  \n",
       "14200  Supermarket Type2                NaN  \n",
       "14201  Supermarket Type1                NaN  \n",
       "14202  Supermarket Type1                NaN  \n",
       "14203  Supermarket Type1                NaN  \n",
       "\n",
       "[14204 rows x 12 columns]"
      ]
     },
     "execution_count": 3,
     "metadata": {},
     "output_type": "execute_result"
    }
   ],
   "source": [
    "df = pd.read_csv('DS3_C6_S1_Regression_StoreSales_Data_Project.csv')\n",
    "df"
   ]
  },
  {
   "cell_type": "code",
   "execution_count": 4,
   "id": "ddd2bef3",
   "metadata": {},
   "outputs": [
    {
     "data": {
      "text/plain": [
       "(14204, 12)"
      ]
     },
     "execution_count": 4,
     "metadata": {},
     "output_type": "execute_result"
    }
   ],
   "source": [
    "df.shape"
   ]
  },
  {
   "cell_type": "code",
   "execution_count": 5,
   "id": "882b24c6",
   "metadata": {},
   "outputs": [
    {
     "name": "stdout",
     "output_type": "stream",
     "text": [
      "<class 'pandas.core.frame.DataFrame'>\n",
      "RangeIndex: 14204 entries, 0 to 14203\n",
      "Data columns (total 12 columns):\n",
      " #   Column                     Non-Null Count  Dtype  \n",
      "---  ------                     --------------  -----  \n",
      " 0   Item_Identifier            14204 non-null  object \n",
      " 1   Item_Weight                14204 non-null  float64\n",
      " 2   Item_Fat_Content           14204 non-null  object \n",
      " 3   Item_Visibility            14204 non-null  float64\n",
      " 4   Item_Type                  14204 non-null  object \n",
      " 5   Item_MRP                   14204 non-null  float64\n",
      " 6   Outlet_Identifier          14204 non-null  object \n",
      " 7   Outlet_Establishment_Year  14204 non-null  int64  \n",
      " 8   Outlet_Size                14204 non-null  object \n",
      " 9   Outlet_Location_Type       14204 non-null  object \n",
      " 10  Outlet_Type                14204 non-null  object \n",
      " 11  Item_Outlet_Sales          8523 non-null   float64\n",
      "dtypes: float64(4), int64(1), object(7)\n",
      "memory usage: 1.3+ MB\n"
     ]
    }
   ],
   "source": [
    "df.info()"
   ]
  },
  {
   "cell_type": "code",
   "execution_count": 6,
   "id": "8c9ba224",
   "metadata": {},
   "outputs": [
    {
     "data": {
      "text/plain": [
       "Item_Identifier                 0\n",
       "Item_Weight                     0\n",
       "Item_Fat_Content                0\n",
       "Item_Visibility                 0\n",
       "Item_Type                       0\n",
       "Item_MRP                        0\n",
       "Outlet_Identifier               0\n",
       "Outlet_Establishment_Year       0\n",
       "Outlet_Size                     0\n",
       "Outlet_Location_Type            0\n",
       "Outlet_Type                     0\n",
       "Item_Outlet_Sales            5681\n",
       "dtype: int64"
      ]
     },
     "execution_count": 6,
     "metadata": {},
     "output_type": "execute_result"
    }
   ],
   "source": [
    "df.isnull().sum()"
   ]
  },
  {
   "cell_type": "code",
   "execution_count": 7,
   "id": "e4ec3f8c",
   "metadata": {
    "scrolled": false
   },
   "outputs": [
    {
     "data": {
      "text/plain": [
       "<AxesSubplot:xlabel='Outlet_Location_Type'>"
      ]
     },
     "execution_count": 7,
     "metadata": {},
     "output_type": "execute_result"
    },
    {
     "data": {
      "image/png": "[encoded data removed]",
      "text/plain": [
       "<Figure size 640x480 with 1 Axes>"
      ]
     },
     "metadata": {},
     "output_type": "display_data"
    }
   ],
   "source": [
    "pd.crosstab(df['Outlet_Location_Type'],df['Outlet_Type']).plot(kind='bar')"
   ]
  },
  {
   "cell_type": "markdown",
   "id": "5451c298",
   "metadata": {},
   "source": [
    "The above chart shows us that Tier 3 location type has all types of outlet but Tier 1 and 2 doesnt have all types of outlet."
   ]
  },
  {
   "cell_type": "code",
   "execution_count": 8,
   "id": "aa7ffe99",
   "metadata": {},
   "outputs": [
    {
     "data": {
      "image/png": "[encoded data removed]",
      "text/plain": [
       "<Figure size 1300x400 with 1 Axes>"
      ]
     },
     "metadata": {},
     "output_type": "display_data"
    }
   ],
   "source": [
    "values = df.Outlet_Type.value_counts()\n",
    "fig,ax=plt.subplots(figsize=(13,4))\n",
    "plt.pie(x=values,labels=values.index,autopct='%.2f%%')\n",
    "\n",
    "plt.title('Outlet Type')\n",
    "plt.show()"
   ]
  },
  {
   "cell_type": "markdown",
   "id": "32352072",
   "metadata": {},
   "source": [
    "1 . 65.43% of outlet types are SuperMarket Type 1\n",
    "\n",
    "2 . 12.71% of outlet types are Grocery store\n",
    "\n",
    "3 . 10.98% of outlet types are SuperMarket Type 3 and \n",
    "\n",
    "4 . 10.88% of outlet types are SuperMarket Type 2"
   ]
  },
  {
   "cell_type": "code",
   "execution_count": 9,
   "id": "ba843948",
   "metadata": {},
   "outputs": [
    {
     "data": {
      "image/png": "[encoded data removed]",
      "text/plain": [
       "<Figure size 640x480 with 1 Axes>"
      ]
     },
     "metadata": {},
     "output_type": "display_data"
    }
   ],
   "source": [
    "plt.hist(df.Item_MRP,color='pink')\n",
    "plt.xlabel('No of customers')\n",
    "plt.ylabel('Item MRP')\n",
    "plt.title('Distribution of Item MRP')\n",
    "plt.show()"
   ]
  },
  {
   "cell_type": "markdown",
   "id": "01f5176d",
   "metadata": {},
   "source": [
    "##### 1 . The distribution of the customers with respect to Item MRP range from $80 to $200. So Concentrate on these range price of items to improve the better sales of the business"
   ]
  },
  {
   "cell_type": "code",
   "execution_count": 10,
   "id": "996e8db3",
   "metadata": {},
   "outputs": [
    {
     "data": {
      "text/html": [
       "<div>\n",
       "<style scoped>\n",
       "    .dataframe tbody tr th:only-of-type {\n",
       "        vertical-align: middle;\n",
       "    }\n",
       "\n",
       "    .dataframe tbody tr th {\n",
       "        vertical-align: top;\n",
       "    }\n",
       "\n",
       "    .dataframe thead th {\n",
       "        text-align: right;\n",
       "    }\n",
       "</style>\n",
       "<table border=\"1\" class=\"dataframe\">\n",
       "  <thead>\n",
       "    <tr style=\"text-align: right;\">\n",
       "      <th></th>\n",
       "      <th>count</th>\n",
       "      <th>mean</th>\n",
       "      <th>std</th>\n",
       "      <th>min</th>\n",
       "      <th>25%</th>\n",
       "      <th>50%</th>\n",
       "      <th>75%</th>\n",
       "      <th>max</th>\n",
       "    </tr>\n",
       "  </thead>\n",
       "  <tbody>\n",
       "    <tr>\n",
       "      <th>Item_Weight</th>\n",
       "      <td>14204.0</td>\n",
       "      <td>12.793380</td>\n",
       "      <td>4.651716</td>\n",
       "      <td>4.555000</td>\n",
       "      <td>8.710000</td>\n",
       "      <td>12.600000</td>\n",
       "      <td>16.750000</td>\n",
       "      <td>21.350000</td>\n",
       "    </tr>\n",
       "    <tr>\n",
       "      <th>Item_Visibility</th>\n",
       "      <td>14204.0</td>\n",
       "      <td>0.070301</td>\n",
       "      <td>0.048621</td>\n",
       "      <td>0.003575</td>\n",
       "      <td>0.033143</td>\n",
       "      <td>0.062347</td>\n",
       "      <td>0.094037</td>\n",
       "      <td>0.328391</td>\n",
       "    </tr>\n",
       "    <tr>\n",
       "      <th>Item_MRP</th>\n",
       "      <td>14204.0</td>\n",
       "      <td>141.004977</td>\n",
       "      <td>62.086938</td>\n",
       "      <td>31.290000</td>\n",
       "      <td>94.012000</td>\n",
       "      <td>142.247000</td>\n",
       "      <td>185.855600</td>\n",
       "      <td>266.888400</td>\n",
       "    </tr>\n",
       "    <tr>\n",
       "      <th>Outlet_Establishment_Year</th>\n",
       "      <td>14204.0</td>\n",
       "      <td>1997.830681</td>\n",
       "      <td>8.371664</td>\n",
       "      <td>1985.000000</td>\n",
       "      <td>1987.000000</td>\n",
       "      <td>1999.000000</td>\n",
       "      <td>2004.000000</td>\n",
       "      <td>2009.000000</td>\n",
       "    </tr>\n",
       "    <tr>\n",
       "      <th>Item_Outlet_Sales</th>\n",
       "      <td>8523.0</td>\n",
       "      <td>2181.288914</td>\n",
       "      <td>1706.499616</td>\n",
       "      <td>33.290000</td>\n",
       "      <td>834.247400</td>\n",
       "      <td>1794.331000</td>\n",
       "      <td>3101.296400</td>\n",
       "      <td>13086.964800</td>\n",
       "    </tr>\n",
       "  </tbody>\n",
       "</table>\n",
       "</div>"
      ],
      "text/plain": [
       "                             count         mean          std          min  \\\n",
       "Item_Weight                14204.0    12.793380     4.651716     4.555000   \n",
       "Item_Visibility            14204.0     0.070301     0.048621     0.003575   \n",
       "Item_MRP                   14204.0   141.004977    62.086938    31.290000   \n",
       "Outlet_Establishment_Year  14204.0  1997.830681     8.371664  1985.000000   \n",
       "Item_Outlet_Sales           8523.0  2181.288914  1706.499616    33.290000   \n",
       "\n",
       "                                   25%          50%          75%           max  \n",
       "Item_Weight                   8.710000    12.600000    16.750000     21.350000  \n",
       "Item_Visibility               0.033143     0.062347     0.094037      0.328391  \n",
       "Item_MRP                     94.012000   142.247000   185.855600    266.888400  \n",
       "Outlet_Establishment_Year  1987.000000  1999.000000  2004.000000   2009.000000  \n",
       "Item_Outlet_Sales           834.247400  1794.331000  3101.296400  13086.964800  "
      ]
     },
     "execution_count": 10,
     "metadata": {},
     "output_type": "execute_result"
    }
   ],
   "source": [
    "df.describe().T"
   ]
  },
  {
   "cell_type": "code",
   "execution_count": 11,
   "id": "c3a54ce1",
   "metadata": {},
   "outputs": [
    {
     "data": {
      "text/plain": [
       "Item_Identifier               object\n",
       "Item_Weight                  float64\n",
       "Item_Fat_Content              object\n",
       "Item_Visibility              float64\n",
       "Item_Type                     object\n",
       "Item_MRP                     float64\n",
       "Outlet_Identifier             object\n",
       "Outlet_Establishment_Year      int64\n",
       "Outlet_Size                   object\n",
       "Outlet_Location_Type          object\n",
       "Outlet_Type                   object\n",
       "Item_Outlet_Sales            float64\n",
       "dtype: object"
      ]
     },
     "execution_count": 11,
     "metadata": {},
     "output_type": "execute_result"
    }
   ],
   "source": [
    "df.dtypes"
   ]
  },
  {
   "cell_type": "markdown",
   "id": "d251e9a8",
   "metadata": {},
   "source": [
    "## Encoding"
   ]
  },
  {
   "cell_type": "code",
   "execution_count": 12,
   "id": "441b6279",
   "metadata": {},
   "outputs": [],
   "source": [
    "from sklearn.preprocessing import LabelEncoder"
   ]
  },
  {
   "cell_type": "code",
   "execution_count": 13,
   "id": "3b58fc31",
   "metadata": {},
   "outputs": [],
   "source": [
    "le=LabelEncoder()\n",
    "obj=df.select_dtypes(include='object')\n",
    "for i in obj:\n",
    "    df[i]=le.fit_transform(df[i])"
   ]
  },
  {
   "cell_type": "code",
   "execution_count": 14,
   "id": "ea2e11ac",
   "metadata": {},
   "outputs": [
    {
     "data": {
      "text/plain": [
       "Item_Identifier                int32\n",
       "Item_Weight                  float64\n",
       "Item_Fat_Content               int32\n",
       "Item_Visibility              float64\n",
       "Item_Type                      int32\n",
       "Item_MRP                     float64\n",
       "Outlet_Identifier              int32\n",
       "Outlet_Establishment_Year      int64\n",
       "Outlet_Size                    int32\n",
       "Outlet_Location_Type           int32\n",
       "Outlet_Type                    int32\n",
       "Item_Outlet_Sales            float64\n",
       "dtype: object"
      ]
     },
     "execution_count": 14,
     "metadata": {},
     "output_type": "execute_result"
    }
   ],
   "source": [
    "df.dtypes"
   ]
  },
  {
   "cell_type": "code",
   "execution_count": 15,
   "id": "f1b1bf25",
   "metadata": {},
   "outputs": [
    {
     "data": {
      "text/html": [
       "<div>\n",
       "<style scoped>\n",
       "    .dataframe tbody tr th:only-of-type {\n",
       "        vertical-align: middle;\n",
       "    }\n",
       "\n",
       "    .dataframe tbody tr th {\n",
       "        vertical-align: top;\n",
       "    }\n",
       "\n",
       "    .dataframe thead th {\n",
       "        text-align: right;\n",
       "    }\n",
       "</style>\n",
       "<table border=\"1\" class=\"dataframe\">\n",
       "  <thead>\n",
       "    <tr style=\"text-align: right;\">\n",
       "      <th></th>\n",
       "      <th>Item_Identifier</th>\n",
       "      <th>Item_Weight</th>\n",
       "      <th>Item_Fat_Content</th>\n",
       "      <th>Item_Visibility</th>\n",
       "      <th>Item_Type</th>\n",
       "      <th>Item_MRP</th>\n",
       "      <th>Outlet_Identifier</th>\n",
       "      <th>Outlet_Establishment_Year</th>\n",
       "      <th>Outlet_Size</th>\n",
       "      <th>Outlet_Location_Type</th>\n",
       "      <th>Outlet_Type</th>\n",
       "      <th>Item_Outlet_Sales</th>\n",
       "    </tr>\n",
       "  </thead>\n",
       "  <tbody>\n",
       "    <tr>\n",
       "      <th>Item_Identifier</th>\n",
       "      <td>1.000000</td>\n",
       "      <td>0.050768</td>\n",
       "      <td>-0.111079</td>\n",
       "      <td>-0.040769</td>\n",
       "      <td>-0.012048</td>\n",
       "      <td>0.010743</td>\n",
       "      <td>-0.001089</td>\n",
       "      <td>-0.002954</td>\n",
       "      <td>0.002209</td>\n",
       "      <td>-0.002473</td>\n",
       "      <td>-0.004532</td>\n",
       "      <td>0.002869</td>\n",
       "    </tr>\n",
       "    <tr>\n",
       "      <th>Item_Weight</th>\n",
       "      <td>0.050768</td>\n",
       "      <td>1.000000</td>\n",
       "      <td>-0.033737</td>\n",
       "      <td>-0.020472</td>\n",
       "      <td>0.031884</td>\n",
       "      <td>0.035751</td>\n",
       "      <td>0.003002</td>\n",
       "      <td>0.000247</td>\n",
       "      <td>0.000944</td>\n",
       "      <td>-0.001719</td>\n",
       "      <td>0.001913</td>\n",
       "      <td>0.013261</td>\n",
       "    </tr>\n",
       "    <tr>\n",
       "      <th>Item_Fat_Content</th>\n",
       "      <td>-0.111079</td>\n",
       "      <td>-0.033737</td>\n",
       "      <td>1.000000</td>\n",
       "      <td>0.048315</td>\n",
       "      <td>-0.147733</td>\n",
       "      <td>-0.004019</td>\n",
       "      <td>-0.001095</td>\n",
       "      <td>0.000137</td>\n",
       "      <td>-0.000827</td>\n",
       "      <td>0.001373</td>\n",
       "      <td>-0.000228</td>\n",
       "      <td>0.018719</td>\n",
       "    </tr>\n",
       "    <tr>\n",
       "      <th>Item_Visibility</th>\n",
       "      <td>-0.040769</td>\n",
       "      <td>-0.020472</td>\n",
       "      <td>0.048315</td>\n",
       "      <td>1.000000</td>\n",
       "      <td>-0.037821</td>\n",
       "      <td>-0.009144</td>\n",
       "      <td>-0.108731</td>\n",
       "      <td>-0.090833</td>\n",
       "      <td>0.026808</td>\n",
       "      <td>-0.020550</td>\n",
       "      <td>-0.172744</td>\n",
       "      <td>-0.135247</td>\n",
       "    </tr>\n",
       "    <tr>\n",
       "      <th>Item_Type</th>\n",
       "      <td>-0.012048</td>\n",
       "      <td>0.031884</td>\n",
       "      <td>-0.147733</td>\n",
       "      <td>-0.037821</td>\n",
       "      <td>1.000000</td>\n",
       "      <td>0.043948</td>\n",
       "      <td>0.001126</td>\n",
       "      <td>0.003061</td>\n",
       "      <td>-0.001080</td>\n",
       "      <td>0.002083</td>\n",
       "      <td>0.004305</td>\n",
       "      <td>0.017048</td>\n",
       "    </tr>\n",
       "    <tr>\n",
       "      <th>Item_MRP</th>\n",
       "      <td>0.010743</td>\n",
       "      <td>0.035751</td>\n",
       "      <td>-0.004019</td>\n",
       "      <td>-0.009144</td>\n",
       "      <td>0.043948</td>\n",
       "      <td>1.000000</td>\n",
       "      <td>-0.000555</td>\n",
       "      <td>0.000141</td>\n",
       "      <td>-0.001305</td>\n",
       "      <td>0.000838</td>\n",
       "      <td>0.000136</td>\n",
       "      <td>0.567574</td>\n",
       "    </tr>\n",
       "    <tr>\n",
       "      <th>Outlet_Identifier</th>\n",
       "      <td>-0.001089</td>\n",
       "      <td>0.003002</td>\n",
       "      <td>-0.001095</td>\n",
       "      <td>-0.108731</td>\n",
       "      <td>0.001126</td>\n",
       "      <td>-0.000555</td>\n",
       "      <td>1.000000</td>\n",
       "      <td>0.079047</td>\n",
       "      <td>0.423623</td>\n",
       "      <td>-0.716151</td>\n",
       "      <td>0.099899</td>\n",
       "      <td>0.162325</td>\n",
       "    </tr>\n",
       "    <tr>\n",
       "      <th>Outlet_Establishment_Year</th>\n",
       "      <td>-0.002954</td>\n",
       "      <td>0.000247</td>\n",
       "      <td>0.000137</td>\n",
       "      <td>-0.090833</td>\n",
       "      <td>0.003061</td>\n",
       "      <td>0.000141</td>\n",
       "      <td>0.079047</td>\n",
       "      <td>1.000000</td>\n",
       "      <td>0.428387</td>\n",
       "      <td>-0.089328</td>\n",
       "      <td>-0.122519</td>\n",
       "      <td>-0.049135</td>\n",
       "    </tr>\n",
       "    <tr>\n",
       "      <th>Outlet_Size</th>\n",
       "      <td>0.002209</td>\n",
       "      <td>0.000944</td>\n",
       "      <td>-0.000827</td>\n",
       "      <td>0.026808</td>\n",
       "      <td>-0.001080</td>\n",
       "      <td>-0.001305</td>\n",
       "      <td>0.423623</td>\n",
       "      <td>0.428387</td>\n",
       "      <td>1.000000</td>\n",
       "      <td>-0.590677</td>\n",
       "      <td>-0.260496</td>\n",
       "      <td>-0.060517</td>\n",
       "    </tr>\n",
       "    <tr>\n",
       "      <th>Outlet_Location_Type</th>\n",
       "      <td>-0.002473</td>\n",
       "      <td>-0.001719</td>\n",
       "      <td>0.001373</td>\n",
       "      <td>-0.020550</td>\n",
       "      <td>0.002083</td>\n",
       "      <td>0.000838</td>\n",
       "      <td>-0.716151</td>\n",
       "      <td>-0.089328</td>\n",
       "      <td>-0.590677</td>\n",
       "      <td>1.000000</td>\n",
       "      <td>0.467251</td>\n",
       "      <td>0.089367</td>\n",
       "    </tr>\n",
       "    <tr>\n",
       "      <th>Outlet_Type</th>\n",
       "      <td>-0.004532</td>\n",
       "      <td>0.001913</td>\n",
       "      <td>-0.000228</td>\n",
       "      <td>-0.172744</td>\n",
       "      <td>0.004305</td>\n",
       "      <td>0.000136</td>\n",
       "      <td>0.099899</td>\n",
       "      <td>-0.122519</td>\n",
       "      <td>-0.260496</td>\n",
       "      <td>0.467251</td>\n",
       "      <td>1.000000</td>\n",
       "      <td>0.401522</td>\n",
       "    </tr>\n",
       "    <tr>\n",
       "      <th>Item_Outlet_Sales</th>\n",
       "      <td>0.002869</td>\n",
       "      <td>0.013261</td>\n",
       "      <td>0.018719</td>\n",
       "      <td>-0.135247</td>\n",
       "      <td>0.017048</td>\n",
       "      <td>0.567574</td>\n",
       "      <td>0.162325</td>\n",
       "      <td>-0.049135</td>\n",
       "      <td>-0.060517</td>\n",
       "      <td>0.089367</td>\n",
       "      <td>0.401522</td>\n",
       "      <td>1.000000</td>\n",
       "    </tr>\n",
       "  </tbody>\n",
       "</table>\n",
       "</div>"
      ],
      "text/plain": [
       "                           Item_Identifier  Item_Weight  Item_Fat_Content  \\\n",
       "Item_Identifier                   1.000000     0.050768         -0.111079   \n",
       "Item_Weight                       0.050768     1.000000         -0.033737   \n",
       "Item_Fat_Content                 -0.111079    -0.033737          1.000000   \n",
       "Item_Visibility                  -0.040769    -0.020472          0.048315   \n",
       "Item_Type                        -0.012048     0.031884         -0.147733   \n",
       "Item_MRP                          0.010743     0.035751         -0.004019   \n",
       "Outlet_Identifier                -0.001089     0.003002         -0.001095   \n",
       "Outlet_Establishment_Year        -0.002954     0.000247          0.000137   \n",
       "Outlet_Size                       0.002209     0.000944         -0.000827   \n",
       "Outlet_Location_Type             -0.002473    -0.001719          0.001373   \n",
       "Outlet_Type                      -0.004532     0.001913         -0.000228   \n",
       "Item_Outlet_Sales                 0.002869     0.013261          0.018719   \n",
       "\n",
       "                           Item_Visibility  Item_Type  Item_MRP  \\\n",
       "Item_Identifier                  -0.040769  -0.012048  0.010743   \n",
       "Item_Weight                      -0.020472   0.031884  0.035751   \n",
       "Item_Fat_Content                  0.048315  -0.147733 -0.004019   \n",
       "Item_Visibility                   1.000000  -0.037821 -0.009144   \n",
       "Item_Type                        -0.037821   1.000000  0.043948   \n",
       "Item_MRP                         -0.009144   0.043948  1.000000   \n",
       "Outlet_Identifier                -0.108731   0.001126 -0.000555   \n",
       "Outlet_Establishment_Year        -0.090833   0.003061  0.000141   \n",
       "Outlet_Size                       0.026808  -0.001080 -0.001305   \n",
       "Outlet_Location_Type             -0.020550   0.002083  0.000838   \n",
       "Outlet_Type                      -0.172744   0.004305  0.000136   \n",
       "Item_Outlet_Sales                -0.135247   0.017048  0.567574   \n",
       "\n",
       "                           Outlet_Identifier  Outlet_Establishment_Year  \\\n",
       "Item_Identifier                    -0.001089                  -0.002954   \n",
       "Item_Weight                         0.003002                   0.000247   \n",
       "Item_Fat_Content                   -0.001095                   0.000137   \n",
       "Item_Visibility                    -0.108731                  -0.090833   \n",
       "Item_Type                           0.001126                   0.003061   \n",
       "Item_MRP                           -0.000555                   0.000141   \n",
       "Outlet_Identifier                   1.000000                   0.079047   \n",
       "Outlet_Establishment_Year           0.079047                   1.000000   \n",
       "Outlet_Size                         0.423623                   0.428387   \n",
       "Outlet_Location_Type               -0.716151                  -0.089328   \n",
       "Outlet_Type                         0.099899                  -0.122519   \n",
       "Item_Outlet_Sales                   0.162325                  -0.049135   \n",
       "\n",
       "                           Outlet_Size  Outlet_Location_Type  Outlet_Type  \\\n",
       "Item_Identifier               0.002209             -0.002473    -0.004532   \n",
       "Item_Weight                   0.000944             -0.001719     0.001913   \n",
       "Item_Fat_Content             -0.000827              0.001373    -0.000228   \n",
       "Item_Visibility               0.026808             -0.020550    -0.172744   \n",
       "Item_Type                    -0.001080              0.002083     0.004305   \n",
       "Item_MRP                     -0.001305              0.000838     0.000136   \n",
       "Outlet_Identifier             0.423623             -0.716151     0.099899   \n",
       "Outlet_Establishment_Year     0.428387             -0.089328    -0.122519   \n",
       "Outlet_Size                   1.000000             -0.590677    -0.260496   \n",
       "Outlet_Location_Type         -0.590677              1.000000     0.467251   \n",
       "Outlet_Type                  -0.260496              0.467251     1.000000   \n",
       "Item_Outlet_Sales            -0.060517              0.089367     0.401522   \n",
       "\n",
       "                           Item_Outlet_Sales  \n",
       "Item_Identifier                     0.002869  \n",
       "Item_Weight                         0.013261  \n",
       "Item_Fat_Content                    0.018719  \n",
       "Item_Visibility                    -0.135247  \n",
       "Item_Type                           0.017048  \n",
       "Item_MRP                            0.567574  \n",
       "Outlet_Identifier                   0.162325  \n",
       "Outlet_Establishment_Year          -0.049135  \n",
       "Outlet_Size                        -0.060517  \n",
       "Outlet_Location_Type                0.089367  \n",
       "Outlet_Type                         0.401522  \n",
       "Item_Outlet_Sales                   1.000000  "
      ]
     },
     "execution_count": 15,
     "metadata": {},
     "output_type": "execute_result"
    }
   ],
   "source": [
    "df.corr()"
   ]
  },
  {
   "cell_type": "code",
   "execution_count": 16,
   "id": "e761ba45",
   "metadata": {},
   "outputs": [
    {
     "data": {
      "image/png": "[encoded data removed]",
      "text/plain": [
       "<Figure size 1000x600 with 2 Axes>"
      ]
     },
     "metadata": {},
     "output_type": "display_data"
    }
   ],
   "source": [
    "plt.rcParams['figure.figsize']=(10,6)\n",
    "sns.heatmap(df.corr(),annot=True,cmap='plasma')\n",
    "plt.show()"
   ]
  },
  {
   "cell_type": "markdown",
   "id": "f44955ad",
   "metadata": {},
   "source": [
    "## Selecting the salient features that will determine the best results"
   ]
  },
  {
   "cell_type": "code",
   "execution_count": 17,
   "id": "a0bdde7a",
   "metadata": {},
   "outputs": [
    {
     "data": {
      "text/html": [
       "<div>\n",
       "<style scoped>\n",
       "    .dataframe tbody tr th:only-of-type {\n",
       "        vertical-align: middle;\n",
       "    }\n",
       "\n",
       "    .dataframe tbody tr th {\n",
       "        vertical-align: top;\n",
       "    }\n",
       "\n",
       "    .dataframe thead th {\n",
       "        text-align: right;\n",
       "    }\n",
       "</style>\n",
       "<table border=\"1\" class=\"dataframe\">\n",
       "  <thead>\n",
       "    <tr style=\"text-align: right;\">\n",
       "      <th></th>\n",
       "      <th>Item_Weight</th>\n",
       "      <th>Item_Fat_Content</th>\n",
       "      <th>Item_Visibility</th>\n",
       "      <th>Item_Type</th>\n",
       "      <th>Item_MRP</th>\n",
       "      <th>Outlet_Identifier</th>\n",
       "      <th>Outlet_Establishment_Year</th>\n",
       "      <th>Outlet_Size</th>\n",
       "      <th>Outlet_Location_Type</th>\n",
       "      <th>Outlet_Type</th>\n",
       "      <th>Item_Outlet_Sales</th>\n",
       "    </tr>\n",
       "  </thead>\n",
       "  <tbody>\n",
       "    <tr>\n",
       "      <th>0</th>\n",
       "      <td>9.30</td>\n",
       "      <td>0</td>\n",
       "      <td>0.016047</td>\n",
       "      <td>4</td>\n",
       "      <td>249.8092</td>\n",
       "      <td>9</td>\n",
       "      <td>1999</td>\n",
       "      <td>1</td>\n",
       "      <td>0</td>\n",
       "      <td>1</td>\n",
       "      <td>3735.1380</td>\n",
       "    </tr>\n",
       "    <tr>\n",
       "      <th>1</th>\n",
       "      <td>5.92</td>\n",
       "      <td>1</td>\n",
       "      <td>0.019278</td>\n",
       "      <td>14</td>\n",
       "      <td>48.2692</td>\n",
       "      <td>3</td>\n",
       "      <td>2009</td>\n",
       "      <td>1</td>\n",
       "      <td>2</td>\n",
       "      <td>2</td>\n",
       "      <td>443.4228</td>\n",
       "    </tr>\n",
       "    <tr>\n",
       "      <th>2</th>\n",
       "      <td>17.50</td>\n",
       "      <td>0</td>\n",
       "      <td>0.016760</td>\n",
       "      <td>10</td>\n",
       "      <td>141.6180</td>\n",
       "      <td>9</td>\n",
       "      <td>1999</td>\n",
       "      <td>1</td>\n",
       "      <td>0</td>\n",
       "      <td>1</td>\n",
       "      <td>2097.2700</td>\n",
       "    </tr>\n",
       "    <tr>\n",
       "      <th>3</th>\n",
       "      <td>19.20</td>\n",
       "      <td>1</td>\n",
       "      <td>0.074402</td>\n",
       "      <td>6</td>\n",
       "      <td>182.0950</td>\n",
       "      <td>0</td>\n",
       "      <td>1998</td>\n",
       "      <td>1</td>\n",
       "      <td>2</td>\n",
       "      <td>0</td>\n",
       "      <td>732.3800</td>\n",
       "    </tr>\n",
       "    <tr>\n",
       "      <th>4</th>\n",
       "      <td>8.93</td>\n",
       "      <td>0</td>\n",
       "      <td>0.064299</td>\n",
       "      <td>9</td>\n",
       "      <td>53.8614</td>\n",
       "      <td>1</td>\n",
       "      <td>1987</td>\n",
       "      <td>0</td>\n",
       "      <td>2</td>\n",
       "      <td>1</td>\n",
       "      <td>994.7052</td>\n",
       "    </tr>\n",
       "    <tr>\n",
       "      <th>...</th>\n",
       "      <td>...</td>\n",
       "      <td>...</td>\n",
       "      <td>...</td>\n",
       "      <td>...</td>\n",
       "      <td>...</td>\n",
       "      <td>...</td>\n",
       "      <td>...</td>\n",
       "      <td>...</td>\n",
       "      <td>...</td>\n",
       "      <td>...</td>\n",
       "      <td>...</td>\n",
       "    </tr>\n",
       "    <tr>\n",
       "      <th>14199</th>\n",
       "      <td>10.50</td>\n",
       "      <td>1</td>\n",
       "      <td>0.013496</td>\n",
       "      <td>13</td>\n",
       "      <td>141.3154</td>\n",
       "      <td>8</td>\n",
       "      <td>1997</td>\n",
       "      <td>2</td>\n",
       "      <td>0</td>\n",
       "      <td>1</td>\n",
       "      <td>NaN</td>\n",
       "    </tr>\n",
       "    <tr>\n",
       "      <th>14200</th>\n",
       "      <td>7.60</td>\n",
       "      <td>1</td>\n",
       "      <td>0.142991</td>\n",
       "      <td>15</td>\n",
       "      <td>169.1448</td>\n",
       "      <td>3</td>\n",
       "      <td>2009</td>\n",
       "      <td>1</td>\n",
       "      <td>2</td>\n",
       "      <td>2</td>\n",
       "      <td>NaN</td>\n",
       "    </tr>\n",
       "    <tr>\n",
       "      <th>14201</th>\n",
       "      <td>10.00</td>\n",
       "      <td>0</td>\n",
       "      <td>0.073529</td>\n",
       "      <td>8</td>\n",
       "      <td>118.7440</td>\n",
       "      <td>7</td>\n",
       "      <td>2002</td>\n",
       "      <td>2</td>\n",
       "      <td>1</td>\n",
       "      <td>1</td>\n",
       "      <td>NaN</td>\n",
       "    </tr>\n",
       "    <tr>\n",
       "      <th>14202</th>\n",
       "      <td>15.30</td>\n",
       "      <td>1</td>\n",
       "      <td>0.064709</td>\n",
       "      <td>3</td>\n",
       "      <td>214.6218</td>\n",
       "      <td>2</td>\n",
       "      <td>2007</td>\n",
       "      <td>2</td>\n",
       "      <td>1</td>\n",
       "      <td>1</td>\n",
       "      <td>NaN</td>\n",
       "    </tr>\n",
       "    <tr>\n",
       "      <th>14203</th>\n",
       "      <td>9.50</td>\n",
       "      <td>1</td>\n",
       "      <td>0.104720</td>\n",
       "      <td>3</td>\n",
       "      <td>79.7960</td>\n",
       "      <td>7</td>\n",
       "      <td>2002</td>\n",
       "      <td>2</td>\n",
       "      <td>1</td>\n",
       "      <td>1</td>\n",
       "      <td>NaN</td>\n",
       "    </tr>\n",
       "  </tbody>\n",
       "</table>\n",
       "<p>14204 rows × 11 columns</p>\n",
       "</div>"
      ],
      "text/plain": [
       "       Item_Weight  Item_Fat_Content  Item_Visibility  Item_Type  Item_MRP  \\\n",
       "0             9.30                 0         0.016047          4  249.8092   \n",
       "1             5.92                 1         0.019278         14   48.2692   \n",
       "2            17.50                 0         0.016760         10  141.6180   \n",
       "3            19.20                 1         0.074402          6  182.0950   \n",
       "4             8.93                 0         0.064299          9   53.8614   \n",
       "...            ...               ...              ...        ...       ...   \n",
       "14199        10.50                 1         0.013496         13  141.3154   \n",
       "14200         7.60                 1         0.142991         15  169.1448   \n",
       "14201        10.00                 0         0.073529          8  118.7440   \n",
       "14202        15.30                 1         0.064709          3  214.6218   \n",
       "14203         9.50                 1         0.104720          3   79.7960   \n",
       "\n",
       "       Outlet_Identifier  Outlet_Establishment_Year  Outlet_Size  \\\n",
       "0                      9                       1999            1   \n",
       "1                      3                       2009            1   \n",
       "2                      9                       1999            1   \n",
       "3                      0                       1998            1   \n",
       "4                      1                       1987            0   \n",
       "...                  ...                        ...          ...   \n",
       "14199                  8                       1997            2   \n",
       "14200                  3                       2009            1   \n",
       "14201                  7                       2002            2   \n",
       "14202                  2                       2007            2   \n",
       "14203                  7                       2002            2   \n",
       "\n",
       "       Outlet_Location_Type  Outlet_Type  Item_Outlet_Sales  \n",
       "0                         0            1          3735.1380  \n",
       "1                         2            2           443.4228  \n",
       "2                         0            1          2097.2700  \n",
       "3                         2            0           732.3800  \n",
       "4                         2            1           994.7052  \n",
       "...                     ...          ...                ...  \n",
       "14199                     0            1                NaN  \n",
       "14200                     2            2                NaN  \n",
       "14201                     1            1                NaN  \n",
       "14202                     1            1                NaN  \n",
       "14203                     1            1                NaN  \n",
       "\n",
       "[14204 rows x 11 columns]"
      ]
     },
     "execution_count": 17,
     "metadata": {},
     "output_type": "execute_result"
    }
   ],
   "source": [
    "df = df.drop(df[['Item_Identifier']],axis=1)\n",
    "df"
   ]
  },
  {
   "cell_type": "code",
   "execution_count": 18,
   "id": "da6de193",
   "metadata": {},
   "outputs": [
    {
     "data": {
      "text/plain": [
       "Index(['Item_Weight', 'Item_Fat_Content', 'Item_Visibility', 'Item_Type',\n",
       "       'Item_MRP', 'Outlet_Identifier', 'Outlet_Establishment_Year',\n",
       "       'Outlet_Size', 'Outlet_Location_Type', 'Outlet_Type',\n",
       "       'Item_Outlet_Sales'],\n",
       "      dtype='object')"
      ]
     },
     "execution_count": 18,
     "metadata": {},
     "output_type": "execute_result"
    }
   ],
   "source": [
    "df_c = df\n",
    "columns = df_c.columns\n",
    "columns"
   ]
  },
  {
   "cell_type": "markdown",
   "id": "fe43141d",
   "metadata": {},
   "source": [
    "## Scaling"
   ]
  },
  {
   "cell_type": "code",
   "execution_count": 19,
   "id": "7db761bf",
   "metadata": {},
   "outputs": [
    {
     "name": "stdout",
     "output_type": "stream",
     "text": [
      "[[-0.75101393 -0.73921202 -1.11587958 ... -0.57514446 -1.3692863\n",
      "  -0.25270242]\n",
      " [-1.47765312  1.35279186 -1.04942649 ... -0.57514446  1.09156555\n",
      "   1.00276633]\n",
      " [ 1.01183853 -0.73921202 -1.10121932 ... -0.57514446 -1.3692863\n",
      "  -0.25270242]\n",
      " ...\n",
      " [-0.60052652 -0.73921202  0.06638835 ...  0.90534701 -0.13886037\n",
      "  -0.25270242]\n",
      " [ 0.53887812  1.35279186 -0.11501486 ...  0.90534701 -0.13886037\n",
      "  -0.25270242]\n",
      " [-0.70801753  1.35279186  0.70793338 ...  0.90534701 -0.13886037\n",
      "  -0.25270242]]\n"
     ]
    }
   ],
   "source": [
    "# Extract the features\n",
    "X = df.iloc[:, :-1].values\n",
    "\n",
    "# Perform scaling\n",
    "scaler = StandardScaler()\n",
    "X_scaled = scaler.fit_transform(X)\n",
    "\n",
    "# Show the scaled data\n",
    "print(X_scaled)"
   ]
  },
  {
   "cell_type": "markdown",
   "id": "791e879e",
   "metadata": {},
   "source": [
    "# Baseline: Linear Regression (For comparison)"
   ]
  },
  {
   "cell_type": "code",
   "execution_count": 20,
   "id": "f3f13c10",
   "metadata": {},
   "outputs": [],
   "source": [
    "null_values = df[df.isnull().any(axis=1)]"
   ]
  },
  {
   "cell_type": "code",
   "execution_count": 21,
   "id": "49c672c2",
   "metadata": {},
   "outputs": [
    {
     "data": {
      "text/html": [
       "<div>\n",
       "<style scoped>\n",
       "    .dataframe tbody tr th:only-of-type {\n",
       "        vertical-align: middle;\n",
       "    }\n",
       "\n",
       "    .dataframe tbody tr th {\n",
       "        vertical-align: top;\n",
       "    }\n",
       "\n",
       "    .dataframe thead th {\n",
       "        text-align: right;\n",
       "    }\n",
       "</style>\n",
       "<table border=\"1\" class=\"dataframe\">\n",
       "  <thead>\n",
       "    <tr style=\"text-align: right;\">\n",
       "      <th></th>\n",
       "      <th>Item_Weight</th>\n",
       "      <th>Item_Fat_Content</th>\n",
       "      <th>Item_Visibility</th>\n",
       "      <th>Item_Type</th>\n",
       "      <th>Item_MRP</th>\n",
       "      <th>Outlet_Identifier</th>\n",
       "      <th>Outlet_Establishment_Year</th>\n",
       "      <th>Outlet_Size</th>\n",
       "      <th>Outlet_Location_Type</th>\n",
       "      <th>Outlet_Type</th>\n",
       "      <th>Item_Outlet_Sales</th>\n",
       "    </tr>\n",
       "  </thead>\n",
       "  <tbody>\n",
       "    <tr>\n",
       "      <th>8523</th>\n",
       "      <td>20.750</td>\n",
       "      <td>0</td>\n",
       "      <td>0.007565</td>\n",
       "      <td>13</td>\n",
       "      <td>107.8622</td>\n",
       "      <td>9</td>\n",
       "      <td>1999</td>\n",
       "      <td>1</td>\n",
       "      <td>0</td>\n",
       "      <td>1</td>\n",
       "      <td>NaN</td>\n",
       "    </tr>\n",
       "    <tr>\n",
       "      <th>8524</th>\n",
       "      <td>8.300</td>\n",
       "      <td>1</td>\n",
       "      <td>0.038428</td>\n",
       "      <td>4</td>\n",
       "      <td>87.3198</td>\n",
       "      <td>2</td>\n",
       "      <td>2007</td>\n",
       "      <td>2</td>\n",
       "      <td>1</td>\n",
       "      <td>1</td>\n",
       "      <td>NaN</td>\n",
       "    </tr>\n",
       "    <tr>\n",
       "      <th>8525</th>\n",
       "      <td>14.600</td>\n",
       "      <td>0</td>\n",
       "      <td>0.099575</td>\n",
       "      <td>11</td>\n",
       "      <td>241.7538</td>\n",
       "      <td>0</td>\n",
       "      <td>1998</td>\n",
       "      <td>1</td>\n",
       "      <td>2</td>\n",
       "      <td>0</td>\n",
       "      <td>NaN</td>\n",
       "    </tr>\n",
       "    <tr>\n",
       "      <th>8526</th>\n",
       "      <td>7.315</td>\n",
       "      <td>0</td>\n",
       "      <td>0.015388</td>\n",
       "      <td>13</td>\n",
       "      <td>155.0340</td>\n",
       "      <td>2</td>\n",
       "      <td>2007</td>\n",
       "      <td>2</td>\n",
       "      <td>1</td>\n",
       "      <td>1</td>\n",
       "      <td>NaN</td>\n",
       "    </tr>\n",
       "    <tr>\n",
       "      <th>8527</th>\n",
       "      <td>13.600</td>\n",
       "      <td>1</td>\n",
       "      <td>0.118599</td>\n",
       "      <td>4</td>\n",
       "      <td>234.2300</td>\n",
       "      <td>5</td>\n",
       "      <td>1985</td>\n",
       "      <td>1</td>\n",
       "      <td>2</td>\n",
       "      <td>3</td>\n",
       "      <td>NaN</td>\n",
       "    </tr>\n",
       "    <tr>\n",
       "      <th>...</th>\n",
       "      <td>...</td>\n",
       "      <td>...</td>\n",
       "      <td>...</td>\n",
       "      <td>...</td>\n",
       "      <td>...</td>\n",
       "      <td>...</td>\n",
       "      <td>...</td>\n",
       "      <td>...</td>\n",
       "      <td>...</td>\n",
       "      <td>...</td>\n",
       "      <td>...</td>\n",
       "    </tr>\n",
       "    <tr>\n",
       "      <th>14199</th>\n",
       "      <td>10.500</td>\n",
       "      <td>1</td>\n",
       "      <td>0.013496</td>\n",
       "      <td>13</td>\n",
       "      <td>141.3154</td>\n",
       "      <td>8</td>\n",
       "      <td>1997</td>\n",
       "      <td>2</td>\n",
       "      <td>0</td>\n",
       "      <td>1</td>\n",
       "      <td>NaN</td>\n",
       "    </tr>\n",
       "    <tr>\n",
       "      <th>14200</th>\n",
       "      <td>7.600</td>\n",
       "      <td>1</td>\n",
       "      <td>0.142991</td>\n",
       "      <td>15</td>\n",
       "      <td>169.1448</td>\n",
       "      <td>3</td>\n",
       "      <td>2009</td>\n",
       "      <td>1</td>\n",
       "      <td>2</td>\n",
       "      <td>2</td>\n",
       "      <td>NaN</td>\n",
       "    </tr>\n",
       "    <tr>\n",
       "      <th>14201</th>\n",
       "      <td>10.000</td>\n",
       "      <td>0</td>\n",
       "      <td>0.073529</td>\n",
       "      <td>8</td>\n",
       "      <td>118.7440</td>\n",
       "      <td>7</td>\n",
       "      <td>2002</td>\n",
       "      <td>2</td>\n",
       "      <td>1</td>\n",
       "      <td>1</td>\n",
       "      <td>NaN</td>\n",
       "    </tr>\n",
       "    <tr>\n",
       "      <th>14202</th>\n",
       "      <td>15.300</td>\n",
       "      <td>1</td>\n",
       "      <td>0.064709</td>\n",
       "      <td>3</td>\n",
       "      <td>214.6218</td>\n",
       "      <td>2</td>\n",
       "      <td>2007</td>\n",
       "      <td>2</td>\n",
       "      <td>1</td>\n",
       "      <td>1</td>\n",
       "      <td>NaN</td>\n",
       "    </tr>\n",
       "    <tr>\n",
       "      <th>14203</th>\n",
       "      <td>9.500</td>\n",
       "      <td>1</td>\n",
       "      <td>0.104720</td>\n",
       "      <td>3</td>\n",
       "      <td>79.7960</td>\n",
       "      <td>7</td>\n",
       "      <td>2002</td>\n",
       "      <td>2</td>\n",
       "      <td>1</td>\n",
       "      <td>1</td>\n",
       "      <td>NaN</td>\n",
       "    </tr>\n",
       "  </tbody>\n",
       "</table>\n",
       "<p>5681 rows × 11 columns</p>\n",
       "</div>"
      ],
      "text/plain": [
       "       Item_Weight  Item_Fat_Content  Item_Visibility  Item_Type  Item_MRP  \\\n",
       "8523        20.750                 0         0.007565         13  107.8622   \n",
       "8524         8.300                 1         0.038428          4   87.3198   \n",
       "8525        14.600                 0         0.099575         11  241.7538   \n",
       "8526         7.315                 0         0.015388         13  155.0340   \n",
       "8527        13.600                 1         0.118599          4  234.2300   \n",
       "...            ...               ...              ...        ...       ...   \n",
       "14199       10.500                 1         0.013496         13  141.3154   \n",
       "14200        7.600                 1         0.142991         15  169.1448   \n",
       "14201       10.000                 0         0.073529          8  118.7440   \n",
       "14202       15.300                 1         0.064709          3  214.6218   \n",
       "14203        9.500                 1         0.104720          3   79.7960   \n",
       "\n",
       "       Outlet_Identifier  Outlet_Establishment_Year  Outlet_Size  \\\n",
       "8523                   9                       1999            1   \n",
       "8524                   2                       2007            2   \n",
       "8525                   0                       1998            1   \n",
       "8526                   2                       2007            2   \n",
       "8527                   5                       1985            1   \n",
       "...                  ...                        ...          ...   \n",
       "14199                  8                       1997            2   \n",
       "14200                  3                       2009            1   \n",
       "14201                  7                       2002            2   \n",
       "14202                  2                       2007            2   \n",
       "14203                  7                       2002            2   \n",
       "\n",
       "       Outlet_Location_Type  Outlet_Type  Item_Outlet_Sales  \n",
       "8523                      0            1                NaN  \n",
       "8524                      1            1                NaN  \n",
       "8525                      2            0                NaN  \n",
       "8526                      1            1                NaN  \n",
       "8527                      2            3                NaN  \n",
       "...                     ...          ...                ...  \n",
       "14199                     0            1                NaN  \n",
       "14200                     2            2                NaN  \n",
       "14201                     1            1                NaN  \n",
       "14202                     1            1                NaN  \n",
       "14203                     1            1                NaN  \n",
       "\n",
       "[5681 rows x 11 columns]"
      ]
     },
     "execution_count": 21,
     "metadata": {},
     "output_type": "execute_result"
    }
   ],
   "source": [
    "null_values"
   ]
  },
  {
   "cell_type": "code",
   "execution_count": 22,
   "id": "f44de254",
   "metadata": {},
   "outputs": [],
   "source": [
    "df = df.dropna()"
   ]
  },
  {
   "cell_type": "code",
   "execution_count": 23,
   "id": "f30552ad",
   "metadata": {},
   "outputs": [],
   "source": [
    "y = df['Item_Outlet_Sales']\n",
    "X = df.drop('Item_Outlet_Sales', axis=1)"
   ]
  },
  {
   "cell_type": "code",
   "execution_count": 24,
   "id": "f6b57d36",
   "metadata": {},
   "outputs": [],
   "source": [
    "# define lists to gather results for plotting later\n",
    "results, names = list(), list()"
   ]
  },
  {
   "cell_type": "code",
   "execution_count": 25,
   "id": "89f84dc1",
   "metadata": {},
   "outputs": [
    {
     "data": {
      "text/plain": [
       "((6818, 10), (1705, 10))"
      ]
     },
     "execution_count": 25,
     "metadata": {},
     "output_type": "execute_result"
    }
   ],
   "source": [
    "x_train,x_test,y_train,y_test = train_test_split(X,y,test_size=0.2,random_state=42)\n",
    "x_train.shape,x_test.shape"
   ]
  },
  {
   "cell_type": "code",
   "execution_count": 26,
   "id": "d37995e3",
   "metadata": {},
   "outputs": [
    {
     "name": "stdout",
     "output_type": "stream",
     "text": [
      "Coeffiecient of determination: 0.500 (0.018)\n"
     ]
    }
   ],
   "source": [
    "model = LinearRegression()\n",
    "\n",
    "# evaluate the model\n",
    "cv = RepeatedKFold(n_splits=10, n_repeats=3, random_state=42)\n",
    "n_scores = cross_val_score(model, X, y,  cv=cv, n_jobs=-1, error_score='raise')\n",
    "\n",
    "results.append(n_scores)\n",
    "names.append('cart')\n",
    "# report performance\n",
    "print('Coeffiecient of determination: %.3f (%.3f)' % (mean(n_scores), std(n_scores)))"
   ]
  },
  {
   "cell_type": "code",
   "execution_count": 27,
   "id": "7014044c",
   "metadata": {},
   "outputs": [],
   "source": [
    "s_model = LinearRegression().fit(x_train, y_train)\n",
    "s_r_sq=s_model.score(x_train, y_train)"
   ]
  },
  {
   "cell_type": "code",
   "execution_count": 42,
   "id": "53981dc5",
   "metadata": {},
   "outputs": [
    {
     "name": "stdout",
     "output_type": "stream",
     "text": [
      "predicted response:\n",
      "[ 934.00925749  719.37565514  920.93658887 ...  391.29136964 1161.4757936\n",
      " 1639.96352058]\n"
     ]
    }
   ],
   "source": [
    "y_pred = s_model.predict(x_test)\n",
    "print('predicted response:', y_pred, sep='\\n')"
   ]
  },
  {
   "cell_type": "code",
   "execution_count": 29,
   "id": "bf097b78",
   "metadata": {},
   "outputs": [
    {
     "name": "stdout",
     "output_type": "stream",
     "text": [
      "coefficient of determination: 0.4976652353320504\n",
      "intercept: 5934.787590390363\n",
      "slope: [-2.24244692e+00  7.13621262e+01 -2.05322078e+03  2.54338433e-01\n",
      "  1.55811764e+01  5.89236138e+01 -3.47503242e+00 -4.33307435e+01\n",
      " -7.17447978e+01  8.35855690e+02]\n"
     ]
    }
   ],
   "source": [
    "print('coefficient of determination:', s_r_sq)\n",
    "print('intercept:', s_model.intercept_)\n",
    "print('slope:', s_model.coef_)"
   ]
  },
  {
   "cell_type": "markdown",
   "id": "5a1dddf0",
   "metadata": {},
   "source": [
    "# Bagging with Random Forest (For comparison)"
   ]
  },
  {
   "cell_type": "code",
   "execution_count": 31,
   "id": "83703fda",
   "metadata": {},
   "outputs": [],
   "source": [
    "from sklearn.ensemble import RandomForestRegressor"
   ]
  },
  {
   "cell_type": "code",
   "execution_count": 32,
   "id": "10e80c0e",
   "metadata": {},
   "outputs": [
    {
     "name": "stdout",
     "output_type": "stream",
     "text": [
      "Coeffiecient of determination: 0.557 (0.024)\n"
     ]
    }
   ],
   "source": [
    "# define the model\n",
    "model = RandomForestRegressor()\n",
    "# evaluate the model\n",
    "cv = RepeatedKFold(n_splits=10, n_repeats=3, random_state=42)\n",
    "n_scores = cross_val_score(model, X, y, cv=cv, n_jobs=-1, error_score='raise')\n",
    "results.append(n_scores)\n",
    "names.append('rf')\n",
    "# report performance\n",
    "print('Coeffiecient of determination: %.3f (%.3f)' % (mean(n_scores), std(n_scores)))"
   ]
  },
  {
   "cell_type": "markdown",
   "id": "4f1547ac",
   "metadata": {},
   "source": [
    "# Boosting with Adaboost"
   ]
  },
  {
   "cell_type": "code",
   "execution_count": 33,
   "id": "cc6f0242",
   "metadata": {},
   "outputs": [],
   "source": [
    "from sklearn.ensemble import AdaBoostRegressor"
   ]
  },
  {
   "cell_type": "code",
   "execution_count": 34,
   "id": "94044d1c",
   "metadata": {},
   "outputs": [
    {
     "name": "stdout",
     "output_type": "stream",
     "text": [
      "Coeffiecient of determination: 0.457 (0.061)\n"
     ]
    }
   ],
   "source": [
    "# define the model\n",
    "model = AdaBoostRegressor()\n",
    "# evaluate the model\n",
    "cv = RepeatedKFold(n_splits=10, n_repeats=3, random_state=42)\n",
    "n_scores = cross_val_score(model, X, y,  cv=cv, n_jobs=-1, error_score='raise')\n",
    "\n",
    "results.append(n_scores)\n",
    "names.append('ada')\n",
    "# report performance\n",
    "print('Coeffiecient of determination: %.3f (%.3f)' % (mean(n_scores), std(n_scores)))"
   ]
  },
  {
   "cell_type": "markdown",
   "id": "025258b4",
   "metadata": {},
   "source": [
    "# Stacking"
   ]
  },
  {
   "cell_type": "code",
   "execution_count": 35,
   "id": "fef88c23",
   "metadata": {},
   "outputs": [],
   "source": [
    "# required Python libraries\n",
    "from sklearn.linear_model import LinearRegression\n",
    "from sklearn.neighbors import KNeighborsRegressor\n",
    "from sklearn.tree import DecisionTreeRegressor\n",
    "from sklearn.svm import SVR\n",
    "from sklearn.ensemble import StackingRegressor"
   ]
  },
  {
   "cell_type": "code",
   "execution_count": 36,
   "id": "07a43c27",
   "metadata": {},
   "outputs": [],
   "source": [
    "# get a stacking ensemble of models\n",
    "def get_stacking():\n",
    "    # define the base models\n",
    "    level0 = list()\n",
    "    level0.append(('lr', LinearRegression()))\n",
    "    level0.append(('knn', KNeighborsRegressor()))\n",
    "    level0.append(('cart', DecisionTreeRegressor()))\n",
    "    # define meta learner model\n",
    "    level1 = LinearRegression()\n",
    "    # define the stacking ensemble\n",
    "    model = StackingRegressor(estimators=level0, final_estimator=level1, cv=5)\n",
    "    return model"
   ]
  },
  {
   "cell_type": "code",
   "execution_count": 37,
   "id": "7832b35c",
   "metadata": {},
   "outputs": [
    {
     "name": "stdout",
     "output_type": "stream",
     "text": [
      "Coeffiecient of determination: 0.534 (0.019)\n"
     ]
    }
   ],
   "source": [
    "# define the model\n",
    "model = get_stacking()\n",
    "\n",
    "\n",
    "# evaluate the model\n",
    "cv = RepeatedKFold(n_splits=10, n_repeats=3, random_state=42)\n",
    "n_scores = cross_val_score(model, X, y , cv=cv, n_jobs=-1, error_score='raise')\n",
    "\n",
    "results.append(n_scores)\n",
    "names.append('stacking')\n",
    "# report performance\n",
    "print('Coeffiecient of determination: %.3f (%.3f)' % (mean(n_scores), std(n_scores)))"
   ]
  },
  {
   "cell_type": "markdown",
   "id": "edc403b6",
   "metadata": {},
   "source": [
    "## Linear Regression Model Evaluation"
   ]
  },
  {
   "cell_type": "code",
   "execution_count": 38,
   "id": "63668339",
   "metadata": {},
   "outputs": [
    {
     "name": "stdout",
     "output_type": "stream",
     "text": [
      "MSE: 1303090.913923465\n",
      "MAE: 855.9566777719574\n",
      "RMSE: 1141.5300757857697\n"
     ]
    }
   ],
   "source": [
    "MSE=mean_squared_error(y_test, y_pred)\n",
    "MAE=mean_absolute_error(y_test,y_pred)\n",
    "RMSE = mean_squared_error(y_test, y_pred, squared=False)\n",
    "print('MSE:',MSE)\n",
    "print('MAE:',MAE)\n",
    "print('RMSE:',RMSE)"
   ]
  },
  {
   "cell_type": "markdown",
   "id": "45bc857e",
   "metadata": {},
   "source": [
    "## Business Interpretation"
   ]
  },
  {
   "cell_type": "markdown",
   "id": "5b6d6109",
   "metadata": {},
   "source": [
    "From the above calculations and the models we can say that BAGGING WITH RANDOM FOREST algorithm has the highest co-efficient of \n",
    "\n",
    "Determination = 0.557  followed by Stacking with 0.534 and we can interpret that the is performing averagely good we cant say it\n",
    "\n",
    "is poor but it is predicting good , The Root mean squared error(RMSE) value is 1141.53  is the measure of the difference between \n",
    "\n",
    "the predicted and actual value. Generally a lower RMSE value indicates the better fit of the model to the data. The obtained \n",
    "\n",
    "error metrics suggests that the model is relatively good fit to the data"
   ]
  },
  {
   "cell_type": "code",
   "execution_count": null,
   "id": "2e5c88a1",
   "metadata": {},
   "outputs": [],
   "source": []
  }
 ],
 "metadata": {
  "kernelspec": {
   "display_name": "Python 3 (ipykernel)",
   "language": "python",
   "name": "python3"
  },
  "language_info": {
   "codemirror_mode": {
    "name": "ipython",
    "version": 3
   },
   "file_extension": ".py",
   "mimetype": "text/x-python",
   "name": "python",
   "nbconvert_exporter": "python",
   "pygments_lexer": "ipython3",
   "version": "3.9.13"
  }
 },
 "nbformat": 4,
 "nbformat_minor": 5
}
